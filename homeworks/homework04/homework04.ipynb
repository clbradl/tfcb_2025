{
 "cells": [
  {
   "attachments": {},
   "cell_type": "markdown",
   "metadata": {},
   "source": [
    "# __Homework 4:__ Practical analysis with BioPython"
   ]
  },
  {
   "attachments": {},
   "cell_type": "markdown",
   "metadata": {},
   "source": [
    "For the homework, you are going to extend the code from the analysis of our FASTQ file in lectures 8 and 9.\n",
    "Recall that the FASTQ file contains reads from a real sequencing run of influenza virus HA and NA genes.\n",
    "\n",
    "---\n",
    "The __actual sequences__ are as follows:\n",
    "\n",
    "    5'-[end of HA]-AGGCGGCCGC-[16 X N barcode]-3'\n",
    "or \n",
    "\n",
    "    5'-[end of NA]-AGGCGGCCGC-[16 X N barcode]-3'\n",
    "---\n",
    "\n",
    "\n",
    "__The end of NA is__ `...CACGATAGATAAATAATAGTGCACCAT`\n",
    "    \n",
    "__The end of HA is__ `...CCGGATTTGCATATAATGATGCACCAT`\n",
    "\n",
    "---    \n",
    "\n",
    "    \n",
    "The __sequencing reads__ from the reverse end of the molecules (in 5'>3' orientation), so the sequencing reads are as follows:\n",
    "\n",
    "    5'-[reverse complement of 16 X N barcode]-GCGGCCGCCT-[reverse complement of the end of HA]-3'\n",
    "or\n",
    "\n",
    "    5'-[reverse complement of 16 X N barcode]-GCGGCCGCCT-[reverse complement of the end of NA]-3'\n",
    "\n",
    "---   \n",
    "    \n",
    "The reads can originate from **either** HA or NA, and that will be distinguished by the most 3' end of the read.\n",
    "But in our example exercise in class, we did not distinguish among reads matching to HA and NA, as we didn't even look far enough into the read to tell the identity.\n",
    "\n",
    "For the homework, your goal is to write code that extends the material from lectures 8 and 9 to also distinguish between HA and NA.\n",
    "This homework can be completed almost entirely by re-using code from lecture 9. You will need to set up your analysis to do the following:\n",
    " 1. Get the reverse complement of each read.\n",
    " 2. Determine if it matches the expected pattern for HA and NA, and if so which one.\n",
    " 3. If it matches, extract the barcode and add it to a dictionary to keep track of counts.\n",
    " 4. Determine the number and distribution of barcodes for HA and NA separately.\n",
    "\n",
    "Please include code to address each of the following questions. Please include code comments to explain what your code is attempting to accomplish. Don't forget to include references to the sources you used to obtain your answer, including your classmates (if you are working in groups).  "
   ]
  },
  {
   "cell_type": "markdown",
   "metadata": {},
   "source": [
    "1. How many reads map to HA, and how many reads map to NA?"
   ]
  },
  {
   "cell_type": "code",
   "execution_count": 74,
   "metadata": {},
   "outputs": [
    {
     "name": "stdout",
     "output_type": "stream",
     "text": [
      "There are 5409 reads that map to HA.\n",
      "There are 4122 reads that map to NA.\n"
     ]
    }
   ],
   "source": [
    "# load necessary packages\n",
    "import re\n",
    "import Bio.SeqIO\n",
    "import Bio.Seq\n",
    "\n",
    "# read sequences from the barcodes_R1.fastq file and create a list of only the sequences (as Seq objects)\n",
    "# used code from lecture09.ipynb practice \n",
    "seqreads = list(Bio.SeqIO.parse('barcodes_R1.fastq', 'fastq'))\n",
    "seqreads_Seq = []\n",
    "for seqrecord in seqreads:\n",
    "    seqreads_Seq.append(seqrecord.seq)\n",
    "\n",
    "# go through each sequence, find the reverse complement, and create lists of \n",
    "# Seq objects that belong to either NA or HA sequences (depending on the end sequences)\n",
    "NA_seqs = []\n",
    "HA_seqs = []\n",
    "neither = []\n",
    "end_NA = 'CACGATAGATAAATAATAGTGCACCAT'\n",
    "end_HA = 'CCGGATTTGCATATAATGATGCACCAT'\n",
    "\n",
    "for seq in seqreads_Seq:\n",
    "    rev_comp = seq.reverse_complement()\n",
    "    if end_NA in rev_comp:\n",
    "        NA_seqs.append(rev_comp)\n",
    "    elif end_HA in rev_comp:\n",
    "        HA_seqs.append(rev_comp)\n",
    "    else:\n",
    "        neither.append(rev_comp)\n",
    "\n",
    "# print out the number of reads mapping to NA or HA\n",
    "print('There are ' + str(len(HA_seqs)) + ' reads that map to HA.')\n",
    "print('There are ' + str(len(NA_seqs)) + ' reads that map to NA.')"
   ]
  },
  {
   "attachments": {},
   "cell_type": "markdown",
   "metadata": {},
   "source": [
    "2. How many HA sequences did not have a valid barcode? Also anwer the same question for NA."
   ]
  },
  {
   "cell_type": "code",
   "execution_count": 75,
   "metadata": {},
   "outputs": [
    {
     "name": "stdout",
     "output_type": "stream",
     "text": [
      "There are 160 HA sequences that do not have a valid barcode.\n",
      "There are 213 NA sequences that do not have a valid barcode.\n"
     ]
    }
   ],
   "source": [
    "# create variables for the lenth of the barcode (bclen) and the sequence upstream of the barcode (upstream)\n",
    "bclen=16\n",
    "upstream='AGGCGGCCGC'\n",
    "\n",
    "# create dictionaries (one for NA, one for HA) in which the keys correspond to the barcodes in the sequence and \n",
    "# the values correspond to the number of times in which that barcode appears\n",
    "\n",
    "# used code from lecture09.ipynb\n",
    "\n",
    "NA_barcode_counts = {'nonvalid':0}\n",
    "for seq in NA_seqs:\n",
    "    str_seq = str(seq)\n",
    "    NA_barcode_search = re.compile(end_NA + upstream + '(?P<NA_barcode>[ATCG]{' + str(bclen) + '})')\n",
    "    NA_match = NA_barcode_search.search(str_seq)   \n",
    "    if NA_match:\n",
    "        NA_barcode_match = NA_match.group('NA_barcode') \n",
    "        if NA_barcode_match in NA_barcode_counts:\n",
    "            NA_barcode_counts[NA_barcode_match] += 1\n",
    "        else:\n",
    "            NA_barcode_counts[NA_barcode_match] = 1\n",
    "    else:\n",
    "        NA_barcode_counts['nonvalid'] += 1\n",
    "\n",
    "HA_barcode_counts = {'nonvalid':0}\n",
    "for seq in HA_seqs:\n",
    "    str_seq = str(seq)\n",
    "    HA_barcode_search = re.compile(end_HA + upstream + '(?P<HA_barcode>[ATCG]{' + str(bclen) + '})')\n",
    "    HA_match = HA_barcode_search.search(str_seq)   \n",
    "    if HA_match:\n",
    "        HA_barcode_match = HA_match.group('HA_barcode') \n",
    "        if HA_barcode_match in HA_barcode_counts:\n",
    "            HA_barcode_counts[HA_barcode_match] += 1\n",
    "        else:\n",
    "            HA_barcode_counts[HA_barcode_match] = 1\n",
    "    else:\n",
    "        HA_barcode_counts['nonvalid'] += 1\n",
    "\n",
    "# print out the number of sequences that do not have a valid barcode for NA and HA\n",
    "print('There are ' + str(HA_barcode_counts['nonvalid']) + ' HA sequences that do not have a valid barcode.')\n",
    "print('There are ' + str(NA_barcode_counts['nonvalid']) + ' NA sequences that do not have a valid barcode.')"
   ]
  },
  {
   "attachments": {},
   "cell_type": "markdown",
   "metadata": {},
   "source": [
    "3. What is the HA barcode with the most counts (and how many counts)? Also answer the same question for NA.\n",
    "\n",
    "    _Hint: you will need to find the key associated with the maximum value in your dictionary. There are many ways to do this._"
   ]
  },
  {
   "cell_type": "code",
   "execution_count": 76,
   "metadata": {},
   "outputs": [
    {
     "name": "stdout",
     "output_type": "stream",
     "text": [
      "The HA barcode with the most counts is CCCGACCCGACATTAA with 155 counts.\n",
      "The NA barcode with the most counts is ACCAGTTCTCCCCGGG with 152 counts.\n"
     ]
    }
   ],
   "source": [
    "# used code from previous undergrad Python class\n",
    "\n",
    "####### HA\n",
    "\n",
    "# remove 'nonvalid' key from dictionary\n",
    "if 'nonvalid' in HA_barcode_counts:\n",
    "    del HA_barcode_counts['nonvalid']\n",
    "\n",
    "# sort the counts from the dictionary and extract the highest count\n",
    "HA_count_list = list(HA_barcode_counts.values())\n",
    "HA_count_list.sort(reverse=True)\n",
    "highest_HA_count = HA_count_list[0]\n",
    "\n",
    "# find the barcode with the highest count\n",
    "for (barcode, count) in HA_barcode_counts.items():\n",
    "    if count == highest_HA_count:\n",
    "        barcode_highest_HA_count = barcode\n",
    "\n",
    "print('The HA barcode with the most counts is ' + str(barcode_highest_HA_count) + ' with ' + str(highest_HA_count) + ' counts.')\n",
    "\n",
    "####### NA\n",
    "\n",
    "# remove 'nonvalid' key from dictionary\n",
    "if 'nonvalid' in NA_barcode_counts:\n",
    "    del NA_barcode_counts['nonvalid']\n",
    "\n",
    "# sort the counts from the dictionary and extract the highest count\n",
    "NA_count_list = list(NA_barcode_counts.values())\n",
    "NA_count_list.sort(reverse=True)\n",
    "highest_NA_count = NA_count_list[0]\n",
    "\n",
    "# find the barcode with the highest count\n",
    "for (barcode, count) in NA_barcode_counts.items():\n",
    "    if count == highest_NA_count:\n",
    "        barcode_highest_NA_count = barcode\n",
    "\n",
    "print('The NA barcode with the most counts is ' + str(barcode_highest_NA_count) + ' with ' + str(highest_NA_count) + ' counts.')"
   ]
  }
 ],
 "metadata": {
  "kernelspec": {
   "display_name": "Python 3",
   "language": "python",
   "name": "python3"
  },
  "language_info": {
   "codemirror_mode": {
    "name": "ipython",
    "version": 3
   },
   "file_extension": ".py",
   "mimetype": "text/x-python",
   "name": "python",
   "nbconvert_exporter": "python",
   "pygments_lexer": "ipython3",
   "version": "3.9.12"
  },
  "toc": {
   "nav_menu": {},
   "number_sections": false,
   "sideBar": true,
   "skip_h1_title": false,
   "toc_cell": false,
   "toc_position": {
    "height": "623.8px",
    "left": "0px",
    "right": "829.6px",
    "top": "33.2px",
    "width": "322.4px"
   },
   "toc_section_display": "block",
   "toc_window_display": true
  }
 },
 "nbformat": 4,
 "nbformat_minor": 2
}
